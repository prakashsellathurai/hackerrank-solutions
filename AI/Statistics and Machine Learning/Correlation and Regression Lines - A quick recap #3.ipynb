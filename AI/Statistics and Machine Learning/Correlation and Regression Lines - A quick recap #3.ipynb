{
 "metadata": {
  "language_info": {
   "codemirror_mode": {
    "name": "ipython",
    "version": 3
   },
   "file_extension": ".py",
   "mimetype": "text/x-python",
   "name": "python",
   "nbconvert_exporter": "python",
   "pygments_lexer": "ipython3",
   "version": "3.8.3-final"
  },
  "orig_nbformat": 2,
  "kernelspec": {
   "name": "python3",
   "display_name": "Python 3.8.3 64-bit",
   "metadata": {
    "interpreter": {
     "hash": "2db524e06e9f5f4ffedc911c917cb75e12dbc923643829bf417064a77eb14d37"
    }
   }
  }
 },
 "nbformat": 4,
 "nbformat_minor": 2,
 "cells": [
  {
   "cell_type": "code",
   "execution_count": 4,
   "metadata": {},
   "outputs": [
    {
     "output_type": "stream",
     "name": "stdout",
     "text": [
      "15.5\n"
     ]
    }
   ],
   "source": [
    "import math\n",
    "x = [15 , 12 , 8  , 8 ,  7 ,  7 ,  7 ,  6   , 5  , 3]\n",
    "y = [10  ,25 , 17  ,11 , 13 , 17 , 20 , 13 , 9  , 15]\n",
    "#calculate mean of x and y\n",
    "sum_x,sum_y=0,0\n",
    "for i in range(len(x)):\n",
    "    sum_x,sum_y=sum_x+x[i],sum_y+y[i]\n",
    "\n",
    "mean_x = float(sum_x)/len(x)\n",
    "mean_y = float(sum_y)/len(y)\n",
    "#now calculate r = A/sqrt(B*C)\n",
    "# A = sum ((x[i]-x_mean_x)*(y[i]-mean_y)) \n",
    "# B = sum(x[i]-mean_x)^2\n",
    "# C = sum(y[i]-mean_y)^2\n",
    "\n",
    "A, B , C ,= 0,0,0;\n",
    "for i in range(len(x)):\n",
    "    A += (x[i]-mean_x)*(y[i]-mean_y)\n",
    "    B += (x[i]-mean_x)**2\n",
    "    C += (y[i]-mean_y)**2\n",
    "#Co-relation Coefficient\n",
    "r = float(A)/math.sqrt(B*C)\n",
    "#slope  b = r*(sd_x/sd_y)\n",
    "#s_d and s_y are standard deviations of x and y respectively\n",
    "std_x = math.sqrt( (float(B)/(len(x))))\n",
    "std_y = math.sqrt( (float(C)/(len(y))))\n",
    "#final slop\n",
    "b = float(r*std_y)/std_x\n",
    "\n",
    "#regression line\n",
    "# y = a+ bx\n",
    "\n",
    "# a = mean_y - b*mean_x\n",
    "a = mean_y - b*mean_x\n",
    "\n",
    "#regression line\n",
    "# y = a+ bx\n",
    "ans = a+b*10\n",
    "print(\"%.1f\"%ans)\n"
   ]
  }
 ]
}