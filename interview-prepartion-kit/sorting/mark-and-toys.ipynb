{
 "metadata": {
  "language_info": {
   "codemirror_mode": {
    "name": "ipython",
    "version": 3
   },
   "file_extension": ".py",
   "mimetype": "text/x-python",
   "name": "python",
   "nbconvert_exporter": "python",
   "pygments_lexer": "ipython3",
   "version": "3.8.3-final"
  },
  "orig_nbformat": 2,
  "kernelspec": {
   "name": "Python 3.8.3 64-bit",
   "display_name": "Python 3.8.3 64-bit",
   "metadata": {
    "interpreter": {
     "hash": "2db524e06e9f5f4ffedc911c917cb75e12dbc923643829bf417064a77eb14d37"
    }
   }
  }
 },
 "nbformat": 4,
 "nbformat_minor": 2,
 "cells": [
  {
   "cell_type": "code",
   "execution_count": 2,
   "metadata": {},
   "outputs": [
    {
     "output_type": "execute_result",
     "data": {
      "text/plain": [
       "4"
      ]
     },
     "metadata": {},
     "execution_count": 2
    }
   ],
   "source": [
    "# Complete the maximumToys function below.\n",
    "def maximumToys(prices, k):\n",
    "    prices.sort()\n",
    "    count = 0\n",
    "    n = len(prices)\n",
    "    for i in range(n-1):\n",
    "        k-=prices[i]\n",
    "        if k<0:\n",
    "            break;\n",
    "        else:\n",
    "            count += 1\n",
    "    return count\n",
    "\n",
    "\n",
    "prices=list(map(int, \"1 12 5 111 200 1000 10\".rstrip().split()))\n",
    "k = 50\n",
    "maximumToys(prices, k)"
   ]
  }
 ]
}