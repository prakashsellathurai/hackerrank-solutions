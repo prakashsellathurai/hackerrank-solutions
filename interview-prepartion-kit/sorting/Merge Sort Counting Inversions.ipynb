{
 "metadata": {
  "language_info": {
   "codemirror_mode": {
    "name": "ipython",
    "version": 3
   },
   "file_extension": ".py",
   "mimetype": "text/x-python",
   "name": "python",
   "nbconvert_exporter": "python",
   "pygments_lexer": "ipython3",
   "version": "3.8.3-final"
  },
  "orig_nbformat": 2,
  "kernelspec": {
   "name": "Python 3.8.3 64-bit",
   "display_name": "Python 3.8.3 64-bit",
   "metadata": {
    "interpreter": {
     "hash": "2db524e06e9f5f4ffedc911c917cb75e12dbc923643829bf417064a77eb14d37"
    }
   }
  }
 },
 "nbformat": 4,
 "nbformat_minor": 2,
 "cells": [
  {
   "cell_type": "code",
   "execution_count": 18,
   "metadata": {},
   "outputs": [
    {
     "output_type": "stream",
     "name": "stdout",
     "text": [
      "0\n4\n"
     ]
    }
   ],
   "source": [
    "def countInversions(arr):\n",
    "    n = len(arr)\n",
    "    if n==1:\n",
    "        return 0\n",
    "    n1 = n//2\n",
    "    n2 = n - n1\n",
    "    left = arr[:n1]\n",
    "    right = arr[n1:]\n",
    "    count = countInversions(left) + countInversions(right)\n",
    "    i1 = 0\n",
    "    i2 = 0\n",
    "    for i in range(n):\n",
    "        if i1 <n1 and (i2>=n2 or left[i1]<=right[i2]):\n",
    "            arr[i] = left[i1]\n",
    "            count += i2\n",
    "            i1 += 1 \n",
    "        elif i2 < n2:\n",
    "            arr[i] = right[i2]\n",
    "            i2 += 1\n",
    "    return count\n",
    "\n",
    "arr = list(map(int, \"1 1 1 2 2\".rstrip().split()))\n",
    "print(countInversions(arr))\n",
    "arr = list(map(int, \"2 1 3 1 2\".rstrip().split()))\n",
    "print(countInversions(arr))"
   ]
  }
 ]
}