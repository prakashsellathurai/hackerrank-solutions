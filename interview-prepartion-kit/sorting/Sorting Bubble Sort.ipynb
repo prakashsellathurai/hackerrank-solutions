{
 "metadata": {
  "language_info": {
   "codemirror_mode": {
    "name": "ipython",
    "version": 3
   },
   "file_extension": ".py",
   "mimetype": "text/x-python",
   "name": "python",
   "nbconvert_exporter": "python",
   "pygments_lexer": "ipython3",
   "version": "3.8.3-final"
  },
  "orig_nbformat": 2,
  "kernelspec": {
   "name": "Python 3.8.3 64-bit",
   "display_name": "Python 3.8.3 64-bit",
   "metadata": {
    "interpreter": {
     "hash": "2db524e06e9f5f4ffedc911c917cb75e12dbc923643829bf417064a77eb14d37"
    }
   }
  }
 },
 "nbformat": 4,
 "nbformat_minor": 2,
 "cells": [
  {
   "cell_type": "code",
   "execution_count": 15,
   "metadata": {},
   "outputs": [
    {
     "output_type": "stream",
     "name": "stdout",
     "text": [
      "Array is sorted in  3  swaps.\nFirst Element:  1\nLast Element:  6\n"
     ]
    }
   ],
   "source": [
    "def countSwaps(a):\n",
    "    n = len(a)\n",
    "    count = 0\n",
    "    swapped = False\n",
    "    for i in range(n-1):\n",
    "        for j in range(n-i-1):\n",
    "            if a[j] > a[j + 1]: \n",
    "                a[j], a[j+1] = a[j+1], a[j]\n",
    "                count += 1\n",
    "                swapped = True\n",
    "        if swapped == False:\n",
    "            break\n",
    "    print(\"Array is sorted in \",count,\" swaps.\")\n",
    "    print(\"First Element: \",a[0] )\n",
    "    print(\"Last Element: \",a[-1] )\n",
    "\n",
    "\n",
    "\n",
    "a= [6,4,1]\n",
    "countSwaps(a)"
   ]
  }
 ]
}