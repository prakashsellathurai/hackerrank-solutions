{
 "metadata": {
  "language_info": {
   "codemirror_mode": {
    "name": "ipython",
    "version": 3
   },
   "file_extension": ".py",
   "mimetype": "text/x-python",
   "name": "python",
   "nbconvert_exporter": "python",
   "pygments_lexer": "ipython3",
   "version": "3.8.3-final"
  },
  "orig_nbformat": 2,
  "kernelspec": {
   "name": "Python 3.8.3 64-bit",
   "display_name": "Python 3.8.3 64-bit",
   "metadata": {
    "interpreter": {
     "hash": "2db524e06e9f5f4ffedc911c917cb75e12dbc923643829bf417064a77eb14d37"
    }
   }
  }
 },
 "nbformat": 4,
 "nbformat_minor": 2,
 "cells": [
  {
   "cell_type": "code",
   "execution_count": 35,
   "metadata": {},
   "outputs": [
    {
     "output_type": "stream",
     "name": "stdout",
     "text": [
      "aleksa 150\namy 100\ndavid 100\naakansha 75\nheraldo 50\n"
     ]
    }
   ],
   "source": [
    "from functools import cmp_to_key\n",
    "class Player:\n",
    "    def __init__(self, name, score):\n",
    "        self.name=name\n",
    "        self.score=score        \n",
    "    def __repr__(self):\n",
    "        return {'name':self.name,'score':self.score}\n",
    "    def comparator(a, b):\n",
    "        if a.score > b.score:\n",
    "            return -1\n",
    "        elif a.score < b.score:\n",
    "            return 1\n",
    "        else:\n",
    "            if a.name < b.name:\n",
    "                return -1\n",
    "            elif a.name > b.name:\n",
    "                return 1\n",
    "            else:\n",
    "                return 0\n",
    "\n",
    "\n",
    "\n",
    "n = 5\n",
    "data = []\n",
    "for i in range(n):\n",
    "    name, score = [\"amy 100\",\"david 100\",\"heraldo 50\",\n",
    "\"aakansha 75\",\"aleksa 150\"][i].split()\n",
    "    score = int(score)\n",
    "    player = Player(name, score)\n",
    "    data.append(player)\n",
    "    \n",
    "data = sorted(data, key=cmp_to_key(Player.comparator))\n",
    "for i in data:\n",
    "    print(i.name, i.score)"
   ]
  }
 ]
}