{
 "metadata": {
  "language_info": {
   "codemirror_mode": {
    "name": "ipython",
    "version": 3
   },
   "file_extension": ".py",
   "mimetype": "text/x-python",
   "name": "python",
   "nbconvert_exporter": "python",
   "pygments_lexer": "ipython3",
   "version": 3
  },
  "orig_nbformat": 2
 },
 "nbformat": 4,
 "nbformat_minor": 2,
 "cells": [
  {
   "cell_type": "code",
   "execution_count": null,
   "metadata": {},
   "outputs": [],
   "source": [
    "def triplets(a, b, c):\n",
    "    # use set to get unique values, and sort the list\n",
    "    a = sorted(list(set(a)))\n",
    "    b = sorted(list(set(b)))\n",
    "    c = sorted(list(set(c)))\n",
    "    #initiate the number of options in a and c\n",
    "    ia, ic = 0, 0\n",
    "    result = 0\n",
    "    for ib in range(len(b)):\n",
    "        while ia < len(a):\n",
    "            if a[ia] <= b[ib]:\n",
    "                ia += 1\n",
    "            else:\n",
    "                break\n",
    "\n",
    "        while ic < len(c):\n",
    "            if c[ic] <= b[ib]:\n",
    "                ic += 1\n",
    "            else:\n",
    "                break\n",
    "\n",
    "        result += ia * ic\n",
    "\n",
    "    return result"
   ]
  }
 ]
}