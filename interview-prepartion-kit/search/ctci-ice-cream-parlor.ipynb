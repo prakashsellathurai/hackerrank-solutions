{
 "metadata": {
  "language_info": {
   "codemirror_mode": {
    "name": "ipython",
    "version": 3
   },
   "file_extension": ".py",
   "mimetype": "text/x-python",
   "name": "python",
   "nbconvert_exporter": "python",
   "pygments_lexer": "ipython3",
   "version": "3.8.3-final"
  },
  "orig_nbformat": 2,
  "kernelspec": {
   "name": "python3",
   "display_name": "Python 3.8.3 64-bit",
   "metadata": {
    "interpreter": {
     "hash": "2db524e06e9f5f4ffedc911c917cb75e12dbc923643829bf417064a77eb14d37"
    }
   }
  }
 },
 "nbformat": 4,
 "nbformat_minor": 2,
 "cells": [
  {
   "cell_type": "code",
   "execution_count": 3,
   "metadata": {},
   "outputs": [
    {
     "output_type": "stream",
     "name": "stdout",
     "text": [
      "1 4\n"
     ]
    }
   ],
   "source": [
    "# Complete the whatFlavors function below.\n",
    "def whatFlavors(cost, money):\n",
    "    cost_dict = {}\n",
    "    for i,icost in enumerate(cost):\n",
    "        if money-icost in cost_dict:\n",
    "            print(str(cost_dict[money-icost]+1) + ' ' + str(i+1))\n",
    "            return \n",
    "        else:\n",
    "            cost_dict[icost] = i\n",
    "\n",
    "\n",
    "\n",
    "money = 4\n",
    "\n",
    "n = 5\n",
    "\n",
    "cost = list(map(int, \"1 4 5 3 2\".rstrip().split()))\n",
    "\n",
    "whatFlavors(cost, money)"
   ]
  }
 ]
}