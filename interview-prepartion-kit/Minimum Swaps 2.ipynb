{
 "metadata": {
  "language_info": {
   "codemirror_mode": {
    "name": "ipython",
    "version": 3
   },
   "file_extension": ".py",
   "mimetype": "text/x-python",
   "name": "python",
   "nbconvert_exporter": "python",
   "pygments_lexer": "ipython3",
   "version": "3.8.3-final"
  },
  "orig_nbformat": 2,
  "kernelspec": {
   "name": "Python 3.8.3 64-bit",
   "display_name": "Python 3.8.3 64-bit",
   "metadata": {
    "interpreter": {
     "hash": "2db524e06e9f5f4ffedc911c917cb75e12dbc923643829bf417064a77eb14d37"
    }
   }
  }
 },
 "nbformat": 4,
 "nbformat_minor": 2,
 "cells": [
  {
   "cell_type": "code",
   "execution_count": 1,
   "metadata": {},
   "outputs": [
    {
     "output_type": "error",
     "ename": "NameError",
     "evalue": "name 'minimumSwaps' is not defined",
     "traceback": [
      "\u001b[1;31m---------------------------------------------------------------------------\u001b[0m",
      "\u001b[1;31mNameError\u001b[0m                                 Traceback (most recent call last)",
      "\u001b[1;32m<ipython-input-1-29148e1fc6b7>\u001b[0m in \u001b[0;36m<module>\u001b[1;34m\u001b[0m\n\u001b[0;32m     54\u001b[0m \u001b[0marr\u001b[0m \u001b[1;33m=\u001b[0m \u001b[0mlist\u001b[0m\u001b[1;33m(\u001b[0m\u001b[0mmap\u001b[0m\u001b[1;33m(\u001b[0m\u001b[0mint\u001b[0m\u001b[1;33m,\u001b[0m \u001b[1;34m\"2 3 4 1 5\"\u001b[0m\u001b[1;33m.\u001b[0m\u001b[0mrstrip\u001b[0m\u001b[1;33m(\u001b[0m\u001b[1;33m)\u001b[0m\u001b[1;33m.\u001b[0m\u001b[0msplit\u001b[0m\u001b[1;33m(\u001b[0m\u001b[1;33m)\u001b[0m\u001b[1;33m)\u001b[0m\u001b[1;33m)\u001b[0m\u001b[1;33m\u001b[0m\u001b[1;33m\u001b[0m\u001b[0m\n\u001b[0;32m     55\u001b[0m \u001b[1;33m\u001b[0m\u001b[0m\n\u001b[1;32m---> 56\u001b[1;33m \u001b[0mminimumSwaps\u001b[0m\u001b[1;33m(\u001b[0m\u001b[0marr\u001b[0m\u001b[1;33m)\u001b[0m\u001b[1;33m\u001b[0m\u001b[1;33m\u001b[0m\u001b[0m\n\u001b[0m",
      "\u001b[1;31mNameError\u001b[0m: name 'minimumSwaps' is not defined"
     ]
    }
   ],
   "source": [
    "def minimumSwaps(arr):\n",
    "    n = len(arr)\n",
    "     \n",
    "    # Create two arrays and use \n",
    "    # as pairs where first array \n",
    "    # is element and second array\n",
    "    # is position of first element\n",
    "    arrpos = [*enumerate(arr)]\n",
    "     \n",
    "    # Sort the array by array element \n",
    "    # values to get right position of \n",
    "    # every element as the elements \n",
    "    # of second array.\n",
    "    arrpos.sort(key = lambda it : it[1])\n",
    "     \n",
    "    # To keep track of visited elements. \n",
    "    # Initialize all elements as not \n",
    "    # visited or false.\n",
    "    vis = {k : False for k in range(n)}\n",
    "     \n",
    "    # Initialize result\n",
    "    ans = 0\n",
    "    for i in range(n):\n",
    "         \n",
    "        # alreadt swapped or \n",
    "        # alreadt present at \n",
    "        # correct position\n",
    "        if vis[i] or arrpos[i][0] == i:\n",
    "            continue\n",
    "             \n",
    "        # find number of nodes \n",
    "        # in this cycle and\n",
    "        # add it to ans\n",
    "        cycle_size = 0\n",
    "        j = i\n",
    "         \n",
    "        while not vis[j]:\n",
    "             \n",
    "            # mark node as visited\n",
    "            vis[j] = True\n",
    "             \n",
    "            # move to next node\n",
    "            j = arrpos[j][0]\n",
    "            cycle_size += 1\n",
    "             \n",
    "        # update answer by adding\n",
    "        # current cycle\n",
    "        if cycle_size > 0:\n",
    "            ans += (cycle_size - 1)\n",
    "             \n",
    "    # return answer\n",
    "    return ans\n",
    "\n",
    "arr = list(map(int, \"2 3 4 1 5\".rstrip().split()))\n",
    "\n",
    "minimumSwaps(arr)"
   ]
  }
 ]
}