{
 "metadata": {
  "language_info": {
   "codemirror_mode": {
    "name": "ipython",
    "version": 3
   },
   "file_extension": ".py",
   "mimetype": "text/x-python",
   "name": "python",
   "nbconvert_exporter": "python",
   "pygments_lexer": "ipython3",
   "version": "3.8.3-final"
  },
  "orig_nbformat": 2,
  "kernelspec": {
   "name": "Python 3.8.3 64-bit",
   "display_name": "Python 3.8.3 64-bit",
   "metadata": {
    "interpreter": {
     "hash": "2db524e06e9f5f4ffedc911c917cb75e12dbc923643829bf417064a77eb14d37"
    }
   }
  }
 },
 "nbformat": 4,
 "nbformat_minor": 2,
 "cells": [
  {
   "cell_type": "code",
   "execution_count": 24,
   "metadata": {},
   "outputs": [
    {
     "output_type": "stream",
     "name": "stdout",
     "text": [
      "3\n"
     ]
    }
   ],
   "source": [
    "\n",
    "q = list(map(int, \"2 1 5 3 4\".rstrip().split()))\n",
    "\n",
    "\n",
    "def minimumBribes(n,q):\n",
    "    bribes = 0\n",
    "    ischaotic = False\n",
    "    for i in range(len(q)):\n",
    "        if q[i] - (i+1) > 2 :\n",
    "            ischaotic = True\n",
    "        for j in range(q[i]-2,i):\n",
    "            if q[j] > q[i]:\n",
    "                bribes += 1\n",
    "    \n",
    "    if (ischaotic):\n",
    "        print(\"Too chaotic\")\n",
    "    else:\n",
    "        print(bribes-1)\n",
    "minimumBribes(2,q)"
   ]
  }
 ]
}