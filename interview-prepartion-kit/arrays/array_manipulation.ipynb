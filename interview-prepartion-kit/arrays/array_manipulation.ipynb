{
 "metadata": {
  "language_info": {
   "codemirror_mode": {
    "name": "ipython",
    "version": 3
   },
   "file_extension": ".py",
   "mimetype": "text/x-python",
   "name": "python",
   "nbconvert_exporter": "python",
   "pygments_lexer": "ipython3",
   "version": "3.8.3-final"
  },
  "orig_nbformat": 2,
  "kernelspec": {
   "name": "Python 3.8.3 64-bit",
   "display_name": "Python 3.8.3 64-bit",
   "metadata": {
    "interpreter": {
     "hash": "2db524e06e9f5f4ffedc911c917cb75e12dbc923643829bf417064a77eb14d37"
    }
   }
  }
 },
 "nbformat": 4,
 "nbformat_minor": 2,
 "cells": [
  {
   "cell_type": "code",
   "execution_count": 23,
   "metadata": {},
   "outputs": [
    {
     "output_type": "stream",
     "name": "stdout",
     "text": [
      "[100, 100, 0, 0, -100]\n"
     ]
    },
    {
     "output_type": "execute_result",
     "data": {
      "text/plain": [
       "200"
      ]
     },
     "metadata": {},
     "execution_count": 23
    }
   ],
   "source": [
    "# Complete the arrayManipulation function below.\n",
    "def arrayManipulation(n, queries):\n",
    "    indexed_array = [ 0] * n\n",
    "    max_number = 0\n",
    "    for query in queries:\n",
    "        [a,b,k] = query\n",
    "        indexed_array[a-1] += k\n",
    "        if (b != len(indexed_array)):\n",
    "            indexed_array[b] -= k\n",
    "\n",
    "    print(indexed_array)\n",
    "    itt = 0\n",
    "    for q in indexed_array:\n",
    "        itt += q\n",
    "        if itt > max_number:\n",
    "            max_number = itt\n",
    "    return max_number\n",
    "\n",
    "\n",
    "\n",
    "\n",
    "nm = \"5 3\".split()\n",
    "\n",
    "n = int(nm[0])\n",
    "\n",
    "m = int(nm[1])\n",
    "\n",
    "queries = [[1 ,2 ,100],[2, 5 ,100],[3 ,4, 100]]\n",
    "\n",
    "\n",
    "arrayManipulation(n, queries)"
   ]
  }
 ]
}