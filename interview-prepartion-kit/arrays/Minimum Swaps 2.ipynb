{
 "metadata": {
  "language_info": {
   "codemirror_mode": {
    "name": "ipython",
    "version": 3
   },
   "file_extension": ".py",
   "mimetype": "text/x-python",
   "name": "python",
   "nbconvert_exporter": "python",
   "pygments_lexer": "ipython3",
   "version": "3.8.3-final"
  },
  "orig_nbformat": 2,
  "kernelspec": {
   "name": "Python 3.8.3 64-bit",
   "display_name": "Python 3.8.3 64-bit",
   "metadata": {
    "interpreter": {
     "hash": "2db524e06e9f5f4ffedc911c917cb75e12dbc923643829bf417064a77eb14d37"
    }
   }
  }
 },
 "nbformat": 4,
 "nbformat_minor": 2,
 "cells": [
  {
   "cell_type": "code",
   "execution_count": 1,
   "metadata": {},
   "outputs": [
    {
     "output_type": "execute_result",
     "data": {
      "text/plain": [
       "3"
      ]
     },
     "metadata": {},
     "execution_count": 1
    }
   ],
   "source": [
    "\n",
    "import random\n",
    "def minimumSwaps(arr):\n",
    "    n = len(arr)\n",
    "     \n",
    "    # Create two arrays and use \n",
    "    # as pairs where first array \n",
    "    # is element and second array\n",
    "    # is position of first element\n",
    "    arrpos = [*enumerate(arr)]\n",
    "     \n",
    "    # Sort the array by array element \n",
    "    # values to get right position of \n",
    "    # every element as the elements \n",
    "    # of second array.\n",
    "    arrpos.sort(key = lambda it : it[1])\n",
    "     \n",
    "    # To keep track of visited elements. \n",
    "    # Initialize all elements as not \n",
    "    # visited or false.\n",
    "    vis = {k : False for k in range(n)}\n",
    "     \n",
    "    # Initialize result\n",
    "    ans = 0\n",
    "    for i in range(n):\n",
    "         \n",
    "        # alreadt swapped or \n",
    "        # alreadt present at \n",
    "        # correct position\n",
    "        if vis[i] or arrpos[i][0] == i:\n",
    "            continue\n",
    "             \n",
    "        # find number of nodes \n",
    "        # in this cycle and\n",
    "        # add it to ans\n",
    "        cycle_size = 0\n",
    "        j = i\n",
    "         \n",
    "        while not vis[j]:\n",
    "             \n",
    "            # mark node as visited\n",
    "            vis[j] = True\n",
    "             \n",
    "            # move to next node\n",
    "            j = arrpos[j][0]\n",
    "            cycle_size += 1\n",
    "             \n",
    "        # update answer by adding\n",
    "        # current cycle\n",
    "        if cycle_size > 0:\n",
    "            ans += (cycle_size - 1)\n",
    "             \n",
    "    # return answer\n",
    "    return ans\n",
    "\n",
    "arr = list(map(int, \"2 3 4 1 5\".rstrip().split()))\n",
    "\n",
    "minimumSwaps(arr)"
   ]
  },
  {
   "cell_type": "code",
   "execution_count": 11,
   "metadata": {},
   "outputs": [
    {
     "output_type": "execute_result",
     "data": {
      "text/plain": [
       "0"
      ]
     },
     "metadata": {},
     "execution_count": 11
    }
   ],
   "source": [
    "def minSwapsUsingHashmap(arr):\n",
    "    N = len(arr)\n",
    "    ans = 0\n",
    "    hashmap = { i : arr[i] for i in range(N) }\n",
    "    temp = [item for item in arr]\n",
    "    temp.sort()\n",
    "\n",
    "    for i in range(N):\n",
    "\n",
    "        if arr[i] != temp[i]:\n",
    "            ans += 1\n",
    "            init = arr[i]\n",
    "            arr = swap(arr,i,list(hashmap.values()).index(temp[i]))\n",
    "\n",
    "            hashmap.update({list(hashmap.values()).index(temp[i]): init})\n",
    "            hashmap.update({i:temp[i]})\n",
    "\n",
    "    return ans\n",
    "\n",
    "def swap(arr,i,j):\n",
    "    arr[i],arr[j] = arr[j],arr[i]\n",
    "    return arr\n",
    "\n",
    "def genearteTestString(n):\n",
    "    return str([ random.randint(0, 9) for i in range(n)]).replace(',','').replace('[','').replace(']','')\n",
    "arr = list(map(int, genearteTestString(5).rstrip().split()))\n",
    "\n",
    "\n",
    "\n",
    "minSwapsUsingHashmap(arr)"
   ]
  }
 ]
}