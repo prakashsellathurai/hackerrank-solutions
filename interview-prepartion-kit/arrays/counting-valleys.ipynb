{
 "metadata": {
  "language_info": {
   "codemirror_mode": {
    "name": "ipython",
    "version": 3
   },
   "file_extension": ".py",
   "mimetype": "text/x-python",
   "name": "python",
   "nbconvert_exporter": "python",
   "pygments_lexer": "ipython3",
   "version": "3.8.3-final"
  },
  "orig_nbformat": 2,
  "kernelspec": {
   "name": "Python 3.8.3 64-bit",
   "display_name": "Python 3.8.3 64-bit",
   "metadata": {
    "interpreter": {
     "hash": "2db524e06e9f5f4ffedc911c917cb75e12dbc923643829bf417064a77eb14d37"
    }
   }
  }
 },
 "nbformat": 4,
 "nbformat_minor": 2,
 "cells": [
  {
   "cell_type": "code",
   "execution_count": 35,
   "metadata": {},
   "outputs": [
    {
     "output_type": "execute_result",
     "data": {
      "text/plain": [
       "1"
      ]
     },
     "metadata": {},
     "execution_count": 35
    }
   ],
   "source": [
    "def countingValleys(steps, paths):\n",
    "    # Write your code here\n",
    "      ##setting the constraints\n",
    "     min = 2\n",
    "     max = 1000000\n",
    "\n",
    "       ## if it's a string convert it to an array\n",
    "     # ex \"UDU\" = [\"U\", \"D\", \"U\"]  \n",
    "     path = (type(paths) != \"string\") and [path for path in paths] or paths\n",
    "\n",
    "     # check if s meets the requirements\n",
    "     if (len(path) >= min and len(path) <= max):\n",
    "        path = list(map(lambda step : step == 'U' and 1 or -1,path))\n",
    "\n",
    "        sealevelIndex = 0\n",
    "        isInValley = False;  \n",
    "        valleys = 0\n",
    "        for step in path:\n",
    "            sealevelIndex += step\n",
    "            if (sealevelIndex < 0 and not isInValley):\n",
    "                isInValley = True\n",
    "            elif (sealevelIndex == 0 and isInValley):\n",
    "                valleys+=1\n",
    "                isInValley = False\n",
    "        return valleys\n",
    "\n",
    "steps=8\n",
    "paths=\"UDDDUDUU\"\n",
    "\n",
    "countingValleys(steps, paths)"
   ]
  },
  {
   "cell_type": "code",
   "execution_count": null,
   "metadata": {},
   "outputs": [],
   "source": []
  }
 ]
}