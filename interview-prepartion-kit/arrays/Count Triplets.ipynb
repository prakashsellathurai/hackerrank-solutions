{
 "metadata": {
  "language_info": {
   "codemirror_mode": {
    "name": "ipython",
    "version": 3
   },
   "file_extension": ".py",
   "mimetype": "text/x-python",
   "name": "python",
   "nbconvert_exporter": "python",
   "pygments_lexer": "ipython3",
   "version": "3.8.3-final"
  },
  "orig_nbformat": 2,
  "kernelspec": {
   "name": "Python 3.8.3 64-bit",
   "display_name": "Python 3.8.3 64-bit",
   "metadata": {
    "interpreter": {
     "hash": "2db524e06e9f5f4ffedc911c917cb75e12dbc923643829bf417064a77eb14d37"
    }
   }
  }
 },
 "nbformat": 4,
 "nbformat_minor": 2,
 "cells": [
  {
   "cell_type": "code",
   "execution_count": 9,
   "metadata": {},
   "outputs": [
    {
     "output_type": "execute_result",
     "data": {
      "text/plain": [
       "4"
      ]
     },
     "metadata": {},
     "execution_count": 9
    }
   ],
   "source": [
    "# Complete the countTriplets function below.\n",
    "from collections import Counter\n",
    "# Complete the countTriplets function below.\n",
    "def countTriplets(arr, r):\n",
    "    left = dict()\n",
    "    right = Counter(arr)\n",
    "    count=0\n",
    "\n",
    "    for i in arr:\n",
    "        right[i]-=1\n",
    "        if i % r ==0:\n",
    "            count+=left.get(i//r,0)*right.get(i*r,0)\n",
    "        left[i] = left.get(i,0)\n",
    "        left[i]+=1\n",
    "\n",
    "\n",
    "    return count\n",
    "\n",
    "\n",
    "arr = list(map(int, \"1 5 5 25 125\".rstrip().split()))\n",
    "r =5 \n",
    "countTriplets(arr, r)\n"
   ]
  }
 ]
}