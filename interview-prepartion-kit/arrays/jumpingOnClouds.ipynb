{
 "metadata": {
  "language_info": {
   "codemirror_mode": {
    "name": "ipython",
    "version": 3
   },
   "file_extension": ".py",
   "mimetype": "text/x-python",
   "name": "python",
   "nbconvert_exporter": "python",
   "pygments_lexer": "ipython3",
   "version": "3.8.3-final"
  },
  "orig_nbformat": 2,
  "kernelspec": {
   "name": "Python 3.8.3 64-bit",
   "display_name": "Python 3.8.3 64-bit",
   "metadata": {
    "interpreter": {
     "hash": "2db524e06e9f5f4ffedc911c917cb75e12dbc923643829bf417064a77eb14d37"
    }
   }
  }
 },
 "nbformat": 4,
 "nbformat_minor": 2,
 "cells": [
  {
   "cell_type": "code",
   "execution_count": null,
   "metadata": {},
   "outputs": [],
   "source": [
    "int count = 0;\n",
    " int i = 0;\n",
    " while(i < arr.length-1){\n",
    " if(i+2 < arr.length && arr[i + 2] == 0){\n",
    " i = i + 2;\n",
    " count++;\n",
    " }\n",
    " else{\n",
    " i++;\n",
    " count++;\n",
    " }\n",
    " }"
   ]
  },
  {
   "cell_type": "code",
   "execution_count": 3,
   "metadata": {},
   "outputs": [
    {
     "output_type": "execute_result",
     "data": {
      "text/plain": [
       "3"
      ]
     },
     "metadata": {},
     "execution_count": 3
    }
   ],
   "source": [
    "# Complete the jumpingOnClouds function below.\n",
    "def jumpingOnClouds(c):\n",
    "    ans = 0\n",
    "    i = 0\n",
    "    n = len(c)\n",
    "    while i < n - 1:\n",
    "        if i + 2 >= n or c[i + 2] == 1:   # Not possible to make a jump of size 2\n",
    "            i = i + 1\n",
    "            ans = ans + 1\n",
    "        else:\n",
    "            i = i + 2\n",
    "            ans = ans + 1\n",
    "    return ans\n",
    "\n",
    "c=list(map(int, \"0 0 0 0 1 0\".rstrip().split()))\n",
    "jumpingOnClouds(c)"
   ]
  }
 ]
}