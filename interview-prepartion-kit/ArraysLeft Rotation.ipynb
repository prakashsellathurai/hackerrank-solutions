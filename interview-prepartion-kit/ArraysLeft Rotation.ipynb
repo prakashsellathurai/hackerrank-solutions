{
 "metadata": {
  "language_info": {
   "codemirror_mode": {
    "name": "ipython",
    "version": 3
   },
   "file_extension": ".py",
   "mimetype": "text/x-python",
   "name": "python",
   "nbconvert_exporter": "python",
   "pygments_lexer": "ipython3",
   "version": "3.8.3-final"
  },
  "orig_nbformat": 2,
  "kernelspec": {
   "name": "Python 3.8.3 64-bit",
   "display_name": "Python 3.8.3 64-bit",
   "metadata": {
    "interpreter": {
     "hash": "2db524e06e9f5f4ffedc911c917cb75e12dbc923643829bf417064a77eb14d37"
    }
   }
  }
 },
 "nbformat": 4,
 "nbformat_minor": 2,
 "cells": [
  {
   "cell_type": "code",
   "execution_count": 1,
   "metadata": {},
   "outputs": [
    {
     "output_type": "execute_result",
     "data": {
      "text/plain": [
       "[5, 1, 2, 3, 4]"
      ]
     },
     "metadata": {},
     "execution_count": 1
    }
   ],
   "source": [
    "\n",
    "d = 4\n",
    "\n",
    "a = list(map(int, \"1 2 3 4 5\".rstrip().split()))\n",
    "# Complete the rotLeft function below.\n",
    "def rotLeft(arr,d):\n",
    "    # Write your code here\n",
    "    roatatedArray = []\n",
    "    l = len(arr)\n",
    "    for i in range(l):\n",
    "        roatatedArray.insert((i - d  < 0) and (l -i+d +1 ) or i - d   , arr[i])\n",
    "\n",
    "    return roatatedArray\n",
    "\n",
    "\n",
    "\n",
    "\n",
    "rotLeft(a, d)"
   ]
  }
 ]
}