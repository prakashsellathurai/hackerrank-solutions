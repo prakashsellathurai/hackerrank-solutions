{
 "metadata": {
  "language_info": {
   "codemirror_mode": {
    "name": "ipython",
    "version": 3
   },
   "file_extension": ".py",
   "mimetype": "text/x-python",
   "name": "python",
   "nbconvert_exporter": "python",
   "pygments_lexer": "ipython3",
   "version": "3.8.3-final"
  },
  "orig_nbformat": 2,
  "kernelspec": {
   "name": "Python 3.8.3 64-bit",
   "display_name": "Python 3.8.3 64-bit",
   "metadata": {
    "interpreter": {
     "hash": "2db524e06e9f5f4ffedc911c917cb75e12dbc923643829bf417064a77eb14d37"
    }
   }
  }
 },
 "nbformat": 4,
 "nbformat_minor": 2,
 "cells": [
  {
   "cell_type": "code",
   "execution_count": 10,
   "metadata": {},
   "outputs": [
    {
     "output_type": "stream",
     "name": "stdout",
     "text": [
      "Counter({'one': 2, 'give': 1, 'me': 1, 'grand': 1, 'today': 1, 'night': 1})\nYes\n"
     ]
    }
   ],
   "source": [
    "from collections import Counter\n",
    "# Complete the checkMagazine function below.\n",
    "def checkMagazine(magazine, note):\n",
    "    magHash = Counter(magazine)\n",
    "    noteHash = Counter(note)\n",
    "    print(all(magHash[key] >= noteHash[key] for key in noteHash.keys()) and \"Yes\" or \"No\")\n",
    "    \n",
    "\n",
    "\n",
    "\n",
    "magazine = \"give me one grand today night\".rstrip().split()\n",
    "\n",
    "\n",
    "note = \"give one grand today\".rstrip().split()\n",
    "checkMagazine(magazine, note)"
   ]
  }
 ]
}