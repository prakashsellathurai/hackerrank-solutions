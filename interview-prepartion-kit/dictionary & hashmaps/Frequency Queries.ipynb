{
 "metadata": {
  "language_info": {
   "codemirror_mode": {
    "name": "ipython",
    "version": 3
   },
   "file_extension": ".py",
   "mimetype": "text/x-python",
   "name": "python",
   "nbconvert_exporter": "python",
   "pygments_lexer": "ipython3",
   "version": "3.8.3-final"
  },
  "orig_nbformat": 2,
  "kernelspec": {
   "name": "Python 3.8.3 64-bit",
   "display_name": "Python 3.8.3 64-bit",
   "metadata": {
    "interpreter": {
     "hash": "2db524e06e9f5f4ffedc911c917cb75e12dbc923643829bf417064a77eb14d37"
    }
   }
  }
 },
 "nbformat": 4,
 "nbformat_minor": 2,
 "cells": [
  {
   "cell_type": "code",
   "execution_count": 27,
   "metadata": {},
   "outputs": [
    {
     "output_type": "execute_result",
     "data": {
      "text/plain": [
       "[0, 1]"
      ]
     },
     "metadata": {},
     "execution_count": 27
    }
   ],
   "source": [
    "from collections import Counter\n",
    "\n",
    "def freqQuery(queries):\n",
    "    freq = Counter()\n",
    "    cnt = Counter()\n",
    "    result = []\n",
    "    for action, value in queries:\n",
    "        if action == 1:\n",
    "            cnt[ freq[value] ] -= 1\n",
    "            freq[value] += 1\n",
    "            cnt[ freq[value] ] += 1\n",
    "        elif action == 2:\n",
    "            if freq[value] > 0:\n",
    "                cnt[ freq[value] ] -= 1\n",
    "                freq[value] -= 1\n",
    "                cnt[ freq[value] ] += 1\n",
    "        else:\n",
    "            result.append(1 if cnt[value] > 0 else 0)\n",
    "    return result\n",
    "\n",
    "queries=[\n",
    "    (1, 5\n",
    "),(1, 6\n",
    "),(3, 2\n",
    "),(1, 10),\n",
    "(1, 10),\n",
    "(1, 6\n",
    "),(2, 5\n",
    "),(3, 2\n",
    "),]\n",
    "freqQuery(queries)"
   ]
  },
  {
   "cell_type": "code",
   "execution_count": null,
   "metadata": {},
   "outputs": [],
   "source": []
  }
 ]
}