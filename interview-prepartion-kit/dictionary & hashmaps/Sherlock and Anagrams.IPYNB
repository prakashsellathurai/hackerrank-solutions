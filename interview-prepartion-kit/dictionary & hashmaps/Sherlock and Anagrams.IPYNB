{
 "metadata": {
  "language_info": {
   "codemirror_mode": {
    "name": "ipython",
    "version": 3
   },
   "file_extension": ".py",
   "mimetype": "text/x-python",
   "name": "python",
   "nbconvert_exporter": "python",
   "pygments_lexer": "ipython3",
   "version": "3.8.3-final"
  },
  "orig_nbformat": 2,
  "kernelspec": {
   "name": "Python 3.8.3 64-bit",
   "display_name": "Python 3.8.3 64-bit",
   "metadata": {
    "interpreter": {
     "hash": "2db524e06e9f5f4ffedc911c917cb75e12dbc923643829bf417064a77eb14d37"
    }
   }
  }
 },
 "nbformat": 4,
 "nbformat_minor": 2,
 "cells": [
  {
   "cell_type": "code",
   "execution_count": 9,
   "metadata": {},
   "outputs": [
    {
     "output_type": "stream",
     "name": "stdout",
     "text": [
      "5\n"
     ]
    }
   ],
   "source": [
    "# Complete the sherlockAndAnagrams function below.\n",
    "def sherlockAndAnagrams(s):\n",
    "        n = len(s)\n",
    "        res = 0\n",
    "        #(n *(n-1)/2) -1 substrings in any string of length n\n",
    "        for l in range(1, n):\n",
    "            cnt = {}\n",
    "            for i in range(n - l + 1):\n",
    "                subs = list(s[i:i + l])\n",
    "                subs.sort()\n",
    "                subs = ''.join(subs)\n",
    "                if subs in cnt:\n",
    "                    cnt[subs] += 1\n",
    "                else:\n",
    "                    cnt[subs] = 1\n",
    "                res += cnt[subs] - 1\n",
    "        print(res)\n",
    "\n",
    "\n",
    "\n",
    "s=\"cdcdjhjhgjhvjhvjhchgchggccg\"\n",
    "sherlockAndAnagrams(s)\n",
    "\n"
   ]
  }
 ]
}