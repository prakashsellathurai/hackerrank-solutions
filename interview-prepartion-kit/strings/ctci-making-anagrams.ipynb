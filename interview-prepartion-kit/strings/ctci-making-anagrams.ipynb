{
 "metadata": {
  "language_info": {
   "codemirror_mode": {
    "name": "ipython",
    "version": 3
   },
   "file_extension": ".py",
   "mimetype": "text/x-python",
   "name": "python",
   "nbconvert_exporter": "python",
   "pygments_lexer": "ipython3",
   "version": "3.8.3-final"
  },
  "orig_nbformat": 2,
  "kernelspec": {
   "name": "Python 3.8.3 64-bit",
   "display_name": "Python 3.8.3 64-bit",
   "metadata": {
    "interpreter": {
     "hash": "2db524e06e9f5f4ffedc911c917cb75e12dbc923643829bf417064a77eb14d37"
    }
   }
  }
 },
 "nbformat": 4,
 "nbformat_minor": 2,
 "cells": [
  {
   "cell_type": "code",
   "execution_count": 16,
   "metadata": {},
   "outputs": [
    {
     "output_type": "stream",
     "name": "stdout",
     "text": [
      "2\n3\n4\n"
     ]
    },
    {
     "output_type": "execute_result",
     "data": {
      "text/plain": [
       "4"
      ]
     },
     "metadata": {},
     "execution_count": 16
    }
   ],
   "source": [
    "# Complete the makeAnagram function below.\n",
    "def makeAnagram(a, b):\n",
    "    buffer = [0] * 26\n",
    "    for char in a: \n",
    "        buffer[ord(char) - ord('a')] += 1\n",
    "    for char in b: \n",
    "        buffer[ord(char) - ord('a')] -= 1\n",
    "    return sum(map(abs, buffer)) \n",
    "\n",
    "\n",
    "\n",
    "\n",
    "a=\"cde\"\n",
    "b=\"abc\"\n",
    "makeAnagram(a, b)"
   ]
  }
 ]
}