{
 "metadata": {
  "language_info": {
   "codemirror_mode": {
    "name": "ipython",
    "version": 3
   },
   "file_extension": ".py",
   "mimetype": "text/x-python",
   "name": "python",
   "nbconvert_exporter": "python",
   "pygments_lexer": "ipython3",
   "version": "3.8.3-final"
  },
  "orig_nbformat": 2,
  "kernelspec": {
   "name": "Python 3.8.3 64-bit",
   "display_name": "Python 3.8.3 64-bit",
   "metadata": {
    "interpreter": {
     "hash": "2db524e06e9f5f4ffedc911c917cb75e12dbc923643829bf417064a77eb14d37"
    }
   }
  }
 },
 "nbformat": 4,
 "nbformat_minor": 2,
 "cells": [
  {
   "cell_type": "code",
   "execution_count": 30,
   "metadata": {},
   "outputs": [
    {
     "output_type": "stream",
     "name": "stdout",
     "text": [
      "NO\nNO\nYES\n"
     ]
    }
   ],
   "source": [
    "from collections import Counter\n",
    "def isValid(s):\n",
    "    cnt = Counter(s)\n",
    "    if len(set(cnt.values())) == 1:\n",
    "        return \"YES\"\n",
    "    elif len(set(cnt.values())) > 2:\n",
    "        return \"NO\"\n",
    "    else:\n",
    "        m1 = max(cnt.values())\n",
    "        m2 = min(cnt.values())\n",
    "\n",
    "        if list(cnt.values()).count(m2) == 1:\n",
    "            return \"YES\"\n",
    "        if list(cnt.values()).count(m1) > 1 or m1 - m2 > 1:\n",
    "            return \"NO\"\n",
    "        return \"YES\"\n",
    "\n",
    "\n",
    "s=\"aabbcd\"\n",
    "print(isValid(s))\n",
    "s=\"aabbccddeefghi\"\n",
    "print(isValid(s))\n",
    "s=\"abcdefghhgfedecba\"\n",
    "print(isValid(s))"
   ]
  }
 ]
}