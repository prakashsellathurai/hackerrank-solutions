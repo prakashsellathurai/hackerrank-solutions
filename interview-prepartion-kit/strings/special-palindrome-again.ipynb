{
 "metadata": {
  "language_info": {
   "codemirror_mode": {
    "name": "ipython",
    "version": 3
   },
   "file_extension": ".py",
   "mimetype": "text/x-python",
   "name": "python",
   "nbconvert_exporter": "python",
   "pygments_lexer": "ipython3",
   "version": "3.8.3-final"
  },
  "orig_nbformat": 2,
  "kernelspec": {
   "name": "Python 3.8.3 64-bit",
   "display_name": "Python 3.8.3 64-bit",
   "metadata": {
    "interpreter": {
     "hash": "2db524e06e9f5f4ffedc911c917cb75e12dbc923643829bf417064a77eb14d37"
    }
   }
  }
 },
 "nbformat": 4,
 "nbformat_minor": 2,
 "cells": [
  {
   "cell_type": "code",
   "execution_count": 9,
   "metadata": {},
   "outputs": [
    {
     "output_type": "execute_result",
     "data": {
      "text/plain": [
       "10"
      ]
     },
     "metadata": {},
     "execution_count": 9
    }
   ],
   "source": [
    "\n",
    "# Complete the substrCount function below.\n",
    "def substrCount(n, s):\n",
    "\tn = len(s); \n",
    "\n",
    "\t# store count of special \n",
    "\t# Palindromic subsing \n",
    "\tresult = 0; \n",
    "\n",
    "\t# it will store the count \n",
    "\t# of continues same char \n",
    "\tsameChar=[0] * n; \n",
    "\n",
    "\ti = 0; \n",
    "\n",
    "\t# traverse sing character \n",
    "\t# from left to right \n",
    "\twhile (i < n): \n",
    "\n",
    "\t\t# store same character count \n",
    "\t\tsameCharCount = 1; \n",
    "\n",
    "\t\tj = i + 1; \n",
    "\n",
    "\t\t# count smiler character \n",
    "\t\twhile (j < n): \n",
    "\t\t\tif(s[i] != s[j]): \n",
    "\t\t\t\tbreak; \n",
    "\t\t\tsameCharCount += 1; \n",
    "\t\t\tj += 1; \n",
    "\t\t\n",
    "\t\t# Case : 1 \n",
    "\t\t# so total number of subsing \n",
    "\t\t# that we can generate are : \n",
    "\t\t# K *( K + 1 ) / 2 \n",
    "\t\t# here K is sameCharCount \n",
    "\t\tresult += int(sameCharCount *\n",
    "\t\t\t\t\t(sameCharCount + 1) / 2); \n",
    "\n",
    "\t\t# store current same char \n",
    "\t\t# count in sameChar[] array \n",
    "\t\tsameChar[i] = sameCharCount; \n",
    "\n",
    "\t\t# increment i \n",
    "\t\ti = j; \n",
    "\n",
    "\t# Case 2: Count all odd length \n",
    "\t# Special Palindromic subsing \n",
    "\tfor j in range(1, n): \n",
    "\t\t\n",
    "\t\t# if current character is equal \n",
    "\t\t# to previous one then we assign \n",
    "\t\t# Previous same character count \n",
    "\t\t# to current one \n",
    "\t\tif (s[j] == s[j - 1]): \n",
    "\t\t\tsameChar[j] = sameChar[j - 1]; \n",
    "\n",
    "\t\t# case 2: odd length \n",
    "\t\tif (j > 0 and j < (n - 1) and\n",
    "\t\t(s[j - 1] == s[j + 1] and\n",
    "\t\t\ts[j] != s[j - 1])): \n",
    "\t\t\tresult += (sameChar[j - 1] \n",
    "\t\t\t\t\tif(sameChar[j - 1] < sameChar[j + 1]) \n",
    "\t\t\t\t\telse sameChar[j + 1]); \n",
    "\n",
    "\t# subtract all single \n",
    "\t# length substring \n",
    "\treturn result; \n",
    "\n",
    "s=\"aaaa\"\n",
    "n=4\n",
    "substrCount(n, s)"
   ]
  }
 ]
}