{
 "metadata": {
  "language_info": {
   "codemirror_mode": {
    "name": "ipython",
    "version": 3
   },
   "file_extension": ".py",
   "mimetype": "text/x-python",
   "name": "python",
   "nbconvert_exporter": "python",
   "pygments_lexer": "ipython3",
   "version": "3.8.3-final"
  },
  "orig_nbformat": 2,
  "kernelspec": {
   "name": "python3",
   "display_name": "Python 3.8.3 64-bit",
   "metadata": {
    "interpreter": {
     "hash": "2db524e06e9f5f4ffedc911c917cb75e12dbc923643829bf417064a77eb14d37"
    }
   }
  }
 },
 "nbformat": 4,
 "nbformat_minor": 2,
 "cells": [
  {
   "source": [
    "Pseudocode\n",
    "* First we need to count the occurrences of the characters.\n",
    "* Then we make a copy of the occurrences this call it the usable characters.\n",
    "* Then we half the occurrences and call this the required characters\n",
    "* Then we make an empty count for our solution.\n",
    "* And and empty string for our solution\n",
    "* From right to left in the string s\n",
    "* * If the character is required\n",
    "* * we backtrack if we can and improve our solution\n",
    "* * we add the character to the solution\n",
    "* * we add it to the solution count\n",
    "* * we reduce form the usable count\n",
    "* * else\n",
    "* * we ignore and reduce form the usable count\n",
    "return our solution"
   ],
   "cell_type": "markdown",
   "metadata": {}
  },
  {
   "cell_type": "code",
   "execution_count": 12,
   "metadata": {},
   "outputs": [
    {
     "output_type": "stream",
     "name": "stdout",
     "text": [
      "\n\n\n\n\ne\ne\ne\ne\ne\ne\ne\neg\neg\neg\neg\neg\neg\neg\n"
     ]
    },
    {
     "output_type": "execute_result",
     "data": {
      "text/plain": [
       "'egg'"
      ]
     },
     "metadata": {},
     "execution_count": 12
    }
   ],
   "source": [
    "from collections import Counter\n",
    "\n",
    "def reverseShuffleMerge(s):\n",
    "    cnt = Counter(s)\n",
    "    req = Counter({k:v // 2 for k,v in cnt.items()})\n",
    "    rs = s[::-1]\n",
    "    ic = ord('a')\n",
    "    imax = ord('z') + 1\n",
    "    pos = -1\n",
    "    ans = ''\n",
    "    while ic < imax:\n",
    "        c = chr(ic)\n",
    "        if c not in list(+req):\n",
    "            ic += 1\n",
    "            continue\n",
    "        i = rs.find(c,pos + 1)\n",
    "        if len(+(req - Counter(rs[i:]))) > 0:\n",
    "            # not enough characters behind,find bigger character\n",
    "            ic += 1\n",
    "        else:\n",
    "            # there are enough characters behind\n",
    "            ans += c\n",
    "            pos = i     #new position to find\n",
    "            req[c] -= 1 #reduct request\n",
    "            ic = ord('a')   #find from a to z\n",
    "            if len(+req) == 0:  #find all\n",
    "                return ans\n",
    "        if ic >= imax:\n",
    "            ic -= 26\n",
    "\n",
    "s=\"eggegg\"\n",
    "reverseShuffleMerge(s)"
   ]
  }
 ]
}