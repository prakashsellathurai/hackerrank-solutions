{
 "metadata": {
  "language_info": {
   "codemirror_mode": {
    "name": "ipython",
    "version": 3
   },
   "file_extension": ".py",
   "mimetype": "text/x-python",
   "name": "python",
   "nbconvert_exporter": "python",
   "pygments_lexer": "ipython3",
   "version": "3.8.3-final"
  },
  "orig_nbformat": 2,
  "kernelspec": {
   "name": "Python 3.8.3 64-bit",
   "display_name": "Python 3.8.3 64-bit",
   "metadata": {
    "interpreter": {
     "hash": "2db524e06e9f5f4ffedc911c917cb75e12dbc923643829bf417064a77eb14d37"
    }
   }
  }
 },
 "nbformat": 4,
 "nbformat_minor": 2,
 "cells": [
  {
   "cell_type": "code",
   "execution_count": 4,
   "metadata": {},
   "outputs": [
    {
     "output_type": "execute_result",
     "data": {
      "text/plain": [
       "29"
      ]
     },
     "metadata": {},
     "execution_count": 4
    }
   ],
   "source": [
    "def luckBalance(k, contests):\n",
    "    res = 0\n",
    "    imp_contest = []\n",
    "    n = len(contests)\n",
    "# I can definitely lose all of the unimportant contests\n",
    "# and I have to lose exactly k important contests\n",
    "    for i in range(n):\n",
    "        a,b = contests[i]\n",
    "        if b == 0:\n",
    "            res+=a\n",
    "        else:\n",
    "            imp_contest.append(a)\n",
    "    imp_contest.sort(reverse=True)\n",
    "\n",
    "# Losing only k contests\n",
    "    res += sum(imp_contest[:min(k, len(imp_contest))])\n",
    "\n",
    "# winning the remaining contests\n",
    "    res -= sum(imp_contest[k:])\n",
    "  \n",
    "    return res\n",
    "\n",
    "\n",
    "k =3\n",
    "contests = [[5, 1],[2 ,1],[1 ,1],[8 ,1],[10, 0],[5 ,0]]\n",
    "\n",
    "\n",
    "luckBalance(k, contests)"
   ]
  }
 ]
}