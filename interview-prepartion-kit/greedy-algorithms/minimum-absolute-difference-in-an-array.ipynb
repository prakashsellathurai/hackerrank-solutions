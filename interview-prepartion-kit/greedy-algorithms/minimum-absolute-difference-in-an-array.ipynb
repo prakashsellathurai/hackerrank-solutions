{
 "metadata": {
  "language_info": {
   "codemirror_mode": {
    "name": "ipython",
    "version": 3
   },
   "file_extension": ".py",
   "mimetype": "text/x-python",
   "name": "python",
   "nbconvert_exporter": "python",
   "pygments_lexer": "ipython3",
   "version": "3.8.3-final"
  },
  "orig_nbformat": 2,
  "kernelspec": {
   "name": "Python 3.8.3 64-bit",
   "display_name": "Python 3.8.3 64-bit",
   "metadata": {
    "interpreter": {
     "hash": "2db524e06e9f5f4ffedc911c917cb75e12dbc923643829bf417064a77eb14d37"
    }
   }
  }
 },
 "nbformat": 4,
 "nbformat_minor": 2,
 "cells": [
  {
   "cell_type": "code",
   "execution_count": 5,
   "metadata": {},
   "outputs": [
    {
     "output_type": "stream",
     "name": "stdout",
     "text": [
      "3\n"
     ]
    }
   ],
   "source": [
    "def minimumAbsoluteDifference(arr):\n",
    "    arr.sort()\n",
    "    n = len(arr)\n",
    "    mini = max(arr)\n",
    "    for i in range(n - 1):\n",
    "        mini = min(mini, abs(arr[i] - arr[i+1]))\n",
    "    return mini\n",
    "\n",
    "arr = list(map(int, \"1 -3 71 68 17\".rstrip().split()))\n",
    "\n",
    "print(minimumAbsoluteDifference(arr))"
   ]
  }
 ]
}