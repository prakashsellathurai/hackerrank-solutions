{
 "metadata": {
  "language_info": {
   "codemirror_mode": {
    "name": "ipython",
    "version": 3
   },
   "file_extension": ".py",
   "mimetype": "text/x-python",
   "name": "python",
   "nbconvert_exporter": "python",
   "pygments_lexer": "ipython3",
   "version": "3.8.3-final"
  },
  "orig_nbformat": 2,
  "kernelspec": {
   "name": "Python 3.8.3 64-bit",
   "display_name": "Python 3.8.3 64-bit",
   "metadata": {
    "interpreter": {
     "hash": "2db524e06e9f5f4ffedc911c917cb75e12dbc923643829bf417064a77eb14d37"
    }
   }
  }
 },
 "nbformat": 4,
 "nbformat_minor": 2,
 "cells": [
  {
   "cell_type": "code",
   "execution_count": 6,
   "metadata": {},
   "outputs": [
    {
     "output_type": "execute_result",
     "data": {
      "text/plain": [
       "29"
      ]
     },
     "metadata": {},
     "execution_count": 6
    }
   ],
   "source": [
    "# Complete the getMinimumCost function below.\n",
    "def getMinimumCost(k, c):\n",
    "    c.sort(reverse=True)\n",
    "    n = len(c)\n",
    "    cost = 0\n",
    "    previous_purchase = 0\n",
    "    for i in range(n):\n",
    "        cost += (previous_purchase +1) * c[i]\n",
    "        if (i+1)%k==0:\n",
    "            previous_purchase += 1\n",
    "    return cost\n",
    "\n",
    "k = 3\n",
    "c = list(map(int, \"1 3 5 7 9\".rstrip().split()))\n",
    "\n",
    "getMinimumCost(k, c)"
   ]
  }
 ]
}